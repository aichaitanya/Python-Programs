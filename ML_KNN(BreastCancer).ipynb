{
 "cells": [
  {
   "cell_type": "code",
   "execution_count": 1,
   "metadata": {},
   "outputs": [],
   "source": [
    "import numpy as np\n",
    "import matplotlib.pyplot as plt\n",
    "from matplotlib import style\n",
    "import warnings\n",
    "from math import sqrt\n",
    "from collections import Counter\n",
    "style.use('fivethirtyeight')\n",
    "import pandas as pd\n",
    "import random"
   ]
  },
  {
   "cell_type": "code",
   "execution_count": 9,
   "metadata": {},
   "outputs": [
    {
     "ename": "TypeError",
     "evalue": "parser_f() got an unexpected keyword argument 'delim'",
     "output_type": "error",
     "traceback": [
      "\u001b[1;31m---------------------------------------------------------------------------\u001b[0m",
      "\u001b[1;31mTypeError\u001b[0m                                 Traceback (most recent call last)",
      "\u001b[1;32m<ipython-input-9-bd8681e1651d>\u001b[0m in \u001b[0;36m<module>\u001b[1;34m\u001b[0m\n\u001b[1;32m----> 1\u001b[1;33m \u001b[0mdf\u001b[0m\u001b[1;33m=\u001b[0m\u001b[0mpd\u001b[0m\u001b[1;33m.\u001b[0m\u001b[0mread_csv\u001b[0m\u001b[1;33m(\u001b[0m\u001b[1;34m'breast-cancer-wisconsindata.csv'\u001b[0m\u001b[1;33m,\u001b[0m\u001b[0mdelim\u001b[0m\u001b[1;33m=\u001b[0m\u001b[1;34m';'\u001b[0m\u001b[1;33m)\u001b[0m\u001b[1;33m\u001b[0m\u001b[1;33m\u001b[0m\u001b[0m\n\u001b[0m",
      "\u001b[1;31mTypeError\u001b[0m: parser_f() got an unexpected keyword argument 'delim'"
     ]
    }
   ],
   "source": [
    "df=pd.read_csv('breast-cancer-wisconsindata.csv',delim=';')"
   ]
  },
  {
   "cell_type": "code",
   "execution_count": null,
   "metadata": {},
   "outputs": [],
   "source": [
    "df.tail()"
   ]
  },
  {
   "cell_type": "code",
   "execution_count": null,
   "metadata": {},
   "outputs": [],
   "source": [
    "df.replace('?',-99999,inplace=True)\n",
    "df.drop(['id'],1,inplace=True)\n",
    "full_data=df.astype(float).values.tolist()"
   ]
  },
  {
   "cell_type": "code",
   "execution_count": null,
   "metadata": {},
   "outputs": [],
   "source": [
    "print(full_data)"
   ]
  },
  {
   "cell_type": "code",
   "execution_count": null,
   "metadata": {},
   "outputs": [],
   "source": [
    "random.shuffle(full_data)\n",
    "test_size=0.2\n",
    "train_set={2:[],4:[]}\n",
    "test_set={2:[],4:[]}\n",
    "train_data=full_data[:-int(test_size*len(full_data))]\n",
    "test_data=full_data[-int(test_size*len(full_data)):]"
   ]
  },
  {
   "cell_type": "code",
   "execution_count": null,
   "metadata": {},
   "outputs": [],
   "source": [
    "for i in train_data:\n",
    "    train_set[i[-1]].append(i[:-1])\n",
    "for i in test_data:\n",
    "    test_set[i[-1]].append(i[:-1])"
   ]
  },
  {
   "cell_type": "code",
   "execution_count": null,
   "metadata": {},
   "outputs": [],
   "source": [
    "def k_nearest_neighbours(data, predict, k):\n",
    "    distances=[]\n",
    "    for group in data:\n",
    "        for features in data[group]:\n",
    "            euclidean_distance=np.linalg.norm(np.array(features)-np.array(predict))\n",
    "            distances.append([euclidean_distance,group])\n",
    "    votes=[i[1] for i in sorted(distances)[:k]]\n",
    "    #print(votes)\n",
    "    #print(Counter(votes))\n",
    "    vote_result=Counter(votes).most_common(1)[0][0]\n",
    "    return vote_result"
   ]
  },
  {
   "cell_type": "code",
   "execution_count": null,
   "metadata": {},
   "outputs": [],
   "source": [
    "k=3\n",
    "high_a=0.0\n",
    "high_k=0\n",
    "\n",
    "plt.xlabel('K')\n",
    "plt.ylabel('accuracy')\n",
    "while(count<100):\n",
    "    correct=0\n",
    "    total=0\n",
    "    for group in test_set:  # 2\n",
    "        for data in test_set[group]:# [3.0, 1.0, 1.0, 1.0, 2.0, 1.0, 2.0, 2.0, 1.0]\n",
    "            vote=k_nearest_neighbours(train_set, data, k) #2\n",
    "            if group==vote: 2==  4\n",
    "                correct+=1\n",
    "            total+=1\n",
    "    \n",
    "    accuracy=correct/total\n",
    "    \n",
    "    if(accuracy>high_a):\n",
    "        high_a=accuracy\n",
    "        high_k=count\n",
    "        \n",
    "    plt.scatter(count,accuracy,s=100)\n",
    "    count+=2\n",
    "\n",
    "plt.show()\n",
    "print('Accuracy:'+str(high_a)+\"\\tk=\"+str(high_k))\n"
   ]
  },
  {
   "cell_type": "code",
   "execution_count": null,
   "metadata": {},
   "outputs": [],
   "source": [
    "correct=0\n",
    "total=0\n",
    "count=3\n",
    "high_a=0.0\n",
    "high_k=0\n",
    "plt.xlabel('K')\n",
    "plt.ylabel('accuracy')\n",
    "x=[]\n",
    "y=[]\n",
    "while(count<100):\n",
    "    for group in test_set:\n",
    "        for data in test_set[group]:\n",
    "            vote=k_nearest_neighbours(train_set, data, count)\n",
    "            if group==vote:\n",
    "                correct+=1\n",
    "            total+=1\n",
    "    \n",
    "    accuracy=correct/total\n",
    "    correct=0\n",
    "    total=0\n",
    "    if(accuracy>=high_a):\n",
    "        high_a=accuracy\n",
    "        high_k=count\n",
    "    x.append(count)    \n",
    "    y.append(accuracy)\n",
    "    count+=2\n",
    "plt.plot(x,y)\n",
    "plt.show()\n",
    "print('Accuracy:'+str(high_a)+\"\\tk=\"+str(high_k))"
   ]
  },
  {
   "cell_type": "code",
   "execution_count": null,
   "metadata": {},
   "outputs": [],
   "source": []
  }
 ],
 "metadata": {
  "kernelspec": {
   "display_name": "Python 3",
   "language": "python",
   "name": "python3"
  },
  "language_info": {
   "codemirror_mode": {
    "name": "ipython",
    "version": 3
   },
   "file_extension": ".py",
   "mimetype": "text/x-python",
   "name": "python",
   "nbconvert_exporter": "python",
   "pygments_lexer": "ipython3",
   "version": "3.7.1"
  }
 },
 "nbformat": 4,
 "nbformat_minor": 2
}

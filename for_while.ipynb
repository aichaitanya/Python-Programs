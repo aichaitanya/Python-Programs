{
 "cells": [
  {
   "cell_type": "code",
   "execution_count": 11,
   "metadata": {},
   "outputs": [
    {
     "name": "stdout",
     "output_type": "stream",
     "text": [
      "10\n"
     ]
    }
   ],
   "source": [
    "n = int(input())"
   ]
  },
  {
   "cell_type": "code",
   "execution_count": 8,
   "metadata": {},
   "outputs": [
    {
     "data": {
      "text/plain": [
       "\"for i in range(1,11):\\n    print(n,'*',i,'=',n*i)\""
      ]
     },
     "execution_count": 8,
     "metadata": {},
     "output_type": "execute_result"
    }
   ],
   "source": [
    "'''for i in range(1,11):\n",
    "    print(n,'*',i,'=',n*i)'''"
   ]
  },
  {
   "cell_type": "code",
   "execution_count": 13,
   "metadata": {},
   "outputs": [
    {
     "name": "stdout",
     "output_type": "stream",
     "text": [
      "1\n",
      "2\n",
      "3\n",
      "4\n",
      "5\n",
      "6\n",
      "7\n",
      "8\n",
      "9\n",
      "10\n"
     ]
    }
   ],
   "source": [
    "i=1\n",
    "while i<=n:\n",
    "    print(i)\n",
    "    i+=1"
   ]
  },
  {
   "cell_type": "code",
   "execution_count": 22,
   "metadata": {},
   "outputs": [
    {
     "name": "stdout",
     "output_type": "stream",
     "text": [
      "*\n",
      "**\n",
      "***\n",
      "****\n",
      "*****\n",
      "******\n",
      "*******\n",
      "********\n",
      "*********\n",
      "**********\n"
     ]
    }
   ],
   "source": [
    "for i in range(1,n+1):\n",
    "    print('*'*i)"
   ]
  },
  {
   "cell_type": "code",
   "execution_count": null,
   "metadata": {},
   "outputs": [],
   "source": [
    "s=(n*2)-2\n",
    "for i in range(1,n+1):\n",
    "    for sp in range(s): #Space\n",
    "        print(\" \",end=\"\")\n",
    "    s-=2\n",
    "    for star in range(i):\n",
    "        print('*   ',end=\"\")\n",
    "    print()\n",
    "    \n",
    "s=2\n",
    "for i in range(n-1,0,-1):\n",
    "    for sp in range(s): #Space\n",
    "        print(\" \",end=\"\")\n",
    "    s+=2\n",
    "    for star in range(i):\n",
    "        print('*   ',end=\"\")\n",
    "    print()"
   ]
  },
  {
   "cell_type": "code",
   "execution_count": 60,
   "metadata": {},
   "outputs": [
    {
     "name": "stdout",
     "output_type": "stream",
     "text": [
      "2\n",
      "3\n",
      "5\n",
      "7\n",
      "11\n",
      "13\n",
      "17\n",
      "19\n",
      "23\n",
      "29\n",
      "31\n",
      "37\n",
      "41\n",
      "43\n",
      "47\n",
      "53\n",
      "59\n",
      "61\n",
      "67\n",
      "71\n",
      "73\n",
      "79\n",
      "83\n",
      "89\n",
      "97\n"
     ]
    }
   ],
   "source": [
    "nn=1\n",
    "while nn<=100:\n",
    "    count=0\n",
    "    i=2\n",
    "    while i<=nn/2:\n",
    "        if nn%i==0:\n",
    "            count+=1\n",
    "            break\n",
    "        i+=1\n",
    "    if count==0 and nn!=1:\n",
    "        print(nn)\n",
    "    nn+=1"
   ]
  },
  {
   "cell_type": "code",
   "execution_count": 64,
   "metadata": {},
   "outputs": [
    {
     "name": "stdout",
     "output_type": "stream",
     "text": [
      "2\n",
      "3\n",
      "5\n",
      "7\n",
      "11\n",
      "13\n",
      "17\n",
      "19\n",
      "23\n",
      "29\n",
      "31\n",
      "37\n",
      "41\n",
      "43\n",
      "47\n",
      "53\n",
      "59\n",
      "61\n",
      "67\n",
      "71\n",
      "73\n",
      "79\n",
      "83\n",
      "89\n",
      "97\n"
     ]
    }
   ],
   "source": [
    "i=2\n",
    "while i<101:\n",
    "    j=2\n",
    "    while j<i:\n",
    "        if i%j==0:\n",
    "            break\n",
    "        j+=1\n",
    "    else :\n",
    "        print(i)\n",
    "    i+=1"
   ]
  },
  {
   "cell_type": "code",
   "execution_count": 65,
   "metadata": {},
   "outputs": [],
   "source": [
    "cube = lambda a : a**3"
   ]
  },
  {
   "cell_type": "code",
   "execution_count": 68,
   "metadata": {},
   "outputs": [
    {
     "name": "stdout",
     "output_type": "stream",
     "text": [
      "125\n",
      "1000000\n"
     ]
    }
   ],
   "source": [
    "print(cube(5))\n",
    "print(cube(100))"
   ]
  },
  {
   "cell_type": "code",
   "execution_count": 69,
   "metadata": {},
   "outputs": [
    {
     "name": "stdout",
     "output_type": "stream",
     "text": [
      "1\n",
      "2\n",
      "6\n",
      "24\n",
      "120\n"
     ]
    }
   ],
   "source": [
    "def factorial(n):\n",
    "    fact = 1\n",
    "    for i in range(1,n+1):\n",
    "        fact*=i\n",
    "        print(fact)\n",
    "        \n",
    "factorial(5)"
   ]
  },
  {
   "cell_type": "code",
   "execution_count": 71,
   "metadata": {},
   "outputs": [
    {
     "name": "stdout",
     "output_type": "stream",
     "text": [
      "Enter : 5\n",
      "1\n",
      "2\n",
      "6\n",
      "24\n",
      "120\n"
     ]
    }
   ],
   "source": [
    "def factorial():\n",
    "    n = int(input('Enter : '))\n",
    "    fact = 1\n",
    "    for i in range(1,n+1):\n",
    "        fact*=i\n",
    "        print(fact)\n",
    "        \n",
    "factorial()"
   ]
  },
  {
   "cell_type": "code",
   "execution_count": 73,
   "metadata": {},
   "outputs": [
    {
     "name": "stdout",
     "output_type": "stream",
     "text": [
      "Enter 1st :3\n",
      "Enter 2nd :4\n",
      "Add :  7\n"
     ]
    }
   ],
   "source": [
    "def addition(a,b):\n",
    "    print('Add : ',a+b)\n",
    "\n",
    "a = int(input('Enter 1st :'))\n",
    "b = int(input('Enter 2nd :'))\n",
    "\n",
    "addition(a,b)"
   ]
  },
  {
   "cell_type": "code",
   "execution_count": 85,
   "metadata": {},
   "outputs": [
    {
     "name": "stdout",
     "output_type": "stream",
     "text": [
      "Enter :98\n"
     ]
    },
    {
     "data": {
      "text/plain": [
       "'Not'"
      ]
     },
     "execution_count": 85,
     "metadata": {},
     "output_type": "execute_result"
    }
   ],
   "source": [
    "def prime(n):\n",
    "    for i in range(2,n):\n",
    "        if n%i==0:\n",
    "            return 'Not'\n",
    "            break\n",
    "\n",
    "    else :\n",
    "        return 'Yes'\n",
    "\n",
    "n = int(input('Enter :'))\n",
    "c = prime(n)\n",
    "c"
   ]
  },
  {
   "cell_type": "code",
   "execution_count": 94,
   "metadata": {},
   "outputs": [
    {
     "name": "stdout",
     "output_type": "stream",
     "text": [
      "Enter :5\n"
     ]
    },
    {
     "data": {
      "text/plain": [
       "120"
      ]
     },
     "execution_count": 94,
     "metadata": {},
     "output_type": "execute_result"
    }
   ],
   "source": [
    "def fact(n):\n",
    "    f=1\n",
    "    if n==0 or n==1:\n",
    "        return n\n",
    "    else :\n",
    "        return n*fact(n-1)\n",
    "\n",
    "n = int(input('Enter :'))\n",
    "c = fact(n)\n",
    "c"
   ]
  },
  {
   "cell_type": "code",
   "execution_count": 106,
   "metadata": {},
   "outputs": [
    {
     "name": "stdout",
     "output_type": "stream",
     "text": [
      "Enter :5\n",
      "0\n",
      "1\n",
      "1\n",
      "2\n",
      "3\n"
     ]
    }
   ],
   "source": [
    "def fibo(n):\n",
    "\n",
    "    if n<=1:\n",
    "        return n\n",
    "    else :\n",
    "        return fibo(n-1)+fibo(n-2)\n",
    "    \n",
    "n = int(input('Enter :'))\n",
    "for i in range(n):\n",
    "    print(fibo(i))"
   ]
  },
  {
   "cell_type": "code",
   "execution_count": 123,
   "metadata": {},
   "outputs": [
    {
     "name": "stdout",
     "output_type": "stream",
     "text": [
      "        A   \n",
      "      A   B   \n",
      "    A   B   C   \n",
      "  A   B   C   D   \n",
      "A   B   C   D   E   \n"
     ]
    }
   ],
   "source": [
    "s=(n*2)-2\n",
    "for i in range(1,n+1):\n",
    "    for sp in range(s): #Space\n",
    "        print(\" \",end=\"\")\n",
    "    s-=2\n",
    "    for j in range(i):\n",
    "        print(chr(65+j),'  ',end=\"\")\n",
    "    print()\n"
   ]
  },
  {
   "cell_type": "code",
   "execution_count": 127,
   "metadata": {},
   "outputs": [
    {
     "name": "stdout",
     "output_type": "stream",
     "text": [
      "        A   \n",
      "      B   B   \n",
      "    C   C   C   \n",
      "  D   D   D   D   \n",
      "E   E   E   E   E   \n"
     ]
    }
   ],
   "source": [
    "s=(n*2)-2\n",
    "for i in range(1,n+1):\n",
    "    for sp in range(s): #Space\n",
    "        print(\" \",end=\"\")\n",
    "    s-=2\n",
    "    \n",
    "    for j in range(i):\n",
    "        print(chr(64+i),'  ',end=\"\")\n",
    "    print()\n"
   ]
  },
  {
   "cell_type": "code",
   "execution_count": 28,
   "metadata": {},
   "outputs": [
    {
     "name": "stdout",
     "output_type": "stream",
     "text": [
      "5\n",
      "        0   \n",
      "      1   1   \n",
      "    0   0   0   \n",
      "  1   1   1   1   \n",
      "0   0   0   0   0   \n"
     ]
    }
   ],
   "source": [
    "n=int(input())\n",
    "def patt(n):\n",
    "    s=(n*2)-2\n",
    "    for i in range(1,n+1):\n",
    "        for sp in range(s): #Space\n",
    "            print(\" \",end=\"\")\n",
    "        s-=2\n",
    "\n",
    "        for j in range(i):\n",
    "            print((i+1)%2,'  ',end=\"\")\n",
    "        print()\n",
    "\n",
    "patt(n)"
   ]
  },
  {
   "cell_type": "code",
   "execution_count": null,
   "metadata": {},
   "outputs": [],
   "source": []
  },
  {
   "cell_type": "code",
   "execution_count": 29,
   "metadata": {},
   "outputs": [
    {
     "name": "stdout",
     "output_type": "stream",
     "text": [
      "5\n",
      "        0   \n",
      "      1   1   \n",
      "    0   0   0   \n",
      "  1   1   1   1   \n",
      "0   0   0   0   0   \n"
     ]
    }
   ],
   "source": [
    "\n",
    "def patt():\n",
    "    n=int(input())\n",
    "    s=(n*2)-2\n",
    "    for i in range(1,n+1):\n",
    "        for sp in range(s): #Space\n",
    "            print(\" \",end=\"\")\n",
    "        s-=2\n",
    "\n",
    "        for j in range(i):\n",
    "            print((i+1)%2,'  ',end=\"\")\n",
    "        print()\n",
    "patt()"
   ]
  },
  {
   "cell_type": "code",
   "execution_count": 34,
   "metadata": {},
   "outputs": [
    {
     "name": "stdout",
     "output_type": "stream",
     "text": [
      "        0   \n",
      "      1   1   \n",
      "    0   0   0   \n",
      "  1   1   1   1   \n",
      "0   0   0   0   0   \n"
     ]
    }
   ],
   "source": [
    "s=8\n",
    "c=0\n",
    "for i in range(1,6):\n",
    "    print(\" \"*s,end='')\n",
    "    s-=2\n",
    "    for j in range(i):\n",
    "        print(str(c)+\"   \",end=\"\")\n",
    "    if c==0:\n",
    "        c=1\n",
    "    else : c=0\n",
    "    print()"
   ]
  }
 ],
 "metadata": {
  "kernelspec": {
   "display_name": "Python 3",
   "language": "python",
   "name": "python3"
  },
  "language_info": {
   "codemirror_mode": {
    "name": "ipython",
    "version": 3
   },
   "file_extension": ".py",
   "mimetype": "text/x-python",
   "name": "python",
   "nbconvert_exporter": "python",
   "pygments_lexer": "ipython3",
   "version": "3.7.4"
  }
 },
 "nbformat": 4,
 "nbformat_minor": 2
}
